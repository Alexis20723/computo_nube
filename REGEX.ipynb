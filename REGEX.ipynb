{
  "nbformat": 4,
  "nbformat_minor": 0,
  "metadata": {
    "colab": {
      "provenance": [],
      "include_colab_link": true
    },
    "kernelspec": {
      "name": "python3",
      "display_name": "Python 3"
    },
    "language_info": {
      "name": "python"
    }
  },
  "cells": [
    {
      "cell_type": "markdown",
      "metadata": {
        "id": "view-in-github",
        "colab_type": "text"
      },
      "source": [
        "<a href=\"https://colab.research.google.com/github/Alexis20723/computo_nube/blob/main/REGEX.ipynb\" target=\"_parent\"><img src=\"https://colab.research.google.com/assets/colab-badge.svg\" alt=\"Open In Colab\"/></a>"
      ]
    },
    {
      "cell_type": "markdown",
      "source": [
        "Nombre: Jessica Méndez\n",
        "\n",
        "Materia: PLN y Visión Computacional\n",
        "\n",
        "07 de diciembre de 2023\n"
      ],
      "metadata": {
        "id": "YTHROY9J1Je7"
      }
    },
    {
      "cell_type": "markdown",
      "source": [
        "Expresiones Regulares (Regex): Una Guía Básica\n",
        "\n",
        "Las expresiones regulares, comúnmente conocidas como regex o regexp, son patrones de búsqueda utilizados para realizar búsquedas y manipulación de texto de manera eficiente. Estas secuencias de caracteres permiten especificar un conjunto de reglas que definen un patrón de coincidencia dentro de una cadena de texto. Son una herramienta poderosa y versátil utilizada en programación, procesamiento de texto y manipulación de datos.\n",
        "\n",
        "Principales Reglas de Uso:\n",
        "\n",
        "- Símbolos Literales: Los caracteres simples en una expresión regular coinciden literalmente con ellos mismos en el texto. Por ejemplo, la expresión regular gato buscará la palabra \"gato\" en un texto.\n",
        "\n",
        "- Cuantificadores: Los cuantificadores especifican la cantidad de ocurrencias de un elemento. Por ejemplo, a{3} coincidirá con exactamente tres letras \"a\". Además, a+ coincidirá con una o más letras \"a\".\n",
        "\n",
        "- Caracteres Especiales: Algunos caracteres tienen significados especiales en expresiones regulares. Por ejemplo, el punto (.) coincide con cualquier carácter, y el asterisco (*) coincide con cero o más ocurrencias del elemento anterior.\n",
        "\n",
        "- Conjuntos de Caracteres: Se pueden definir conjuntos de caracteres utilizando corchetes ([]). Por ejemplo, [aeiou] coincidirá con cualquier vocal.\n",
        "\n",
        "- Negación de Conjuntos: Un acento circunflejo (^) dentro de corchetes negará el conjunto. Por ejemplo, [^0-9] coincidirá con cualquier carácter que no sea un dígito.\n",
        "\n",
        "- Anclajes: Los anclajes indican la posición en la que debe ocurrir un patrón. Por ejemplo, ^ representa el inicio de una línea, y $ representa el final de una línea.\n",
        "\n",
        "- Grupos y Captura: Los paréntesis (()) se utilizan para agrupar elementos y formar subpatrones. Además, permiten la captura de la parte coincidente para su posterior uso.\n",
        "\n",
        "- Caracteres de Escape: Algunos caracteres tienen significados especiales en expresiones regulares. Si deseas buscar estos caracteres literalmente, debes escaparlos con una barra invertida (\\).\n",
        "\n",
        "\n",
        "Estas reglas son solo el punto de partida para entender las expresiones regulares. A medida que te familiarices con ellas, descubrirás su potencial para realizar búsquedas y manipulaciones de texto de manera eficiente y precisa. Aprender a utilizar expresiones regulares es una habilidad valiosa que mejora la capacidad de procesamiento y manipulación de datos en el ámbito de la programación y más allá."
      ],
      "metadata": {
        "id": "F4R-tq-X1JWy"
      }
    },
    {
      "cell_type": "markdown",
      "source": [
        "#Ejercicios"
      ],
      "metadata": {
        "id": "_JV9l38X1JPD"
      }
    },
    {
      "cell_type": "code",
      "execution_count": null,
      "metadata": {
        "colab": {
          "base_uri": "https://localhost:8080/"
        },
        "id": "RitfUP65z8rb",
        "outputId": "54d56248-4117-448c-c8e5-e0e4d6452b15"
      },
      "outputs": [
        {
          "output_type": "stream",
          "name": "stdout",
          "text": [
            "Ejercicio 1: ['gato', 'gato']\n"
          ]
        }
      ],
      "source": [
        "import re\n",
        "\n",
        "# Ejercicio 1\n",
        "# Encuentra todas las coincidencias de \"gato\" en el texto.\n",
        "texto = \"El gato está en el tejado. El gato es un animal goméstico.\"\n",
        "resultado = re.findall(r\"gato\", texto)\n",
        "print(\"Ejercicio 1:\", resultado)\n"
      ]
    },
    {
      "cell_type": "code",
      "source": [
        "\n",
        "# Ejercicio 2\n",
        "# Encuentra todas las palabras que comienzan con \"g\" en el texto.\n",
        "resultado = re.findall(r'\\bg\\w*', texto)\n",
        "print(\"Ejercicio 2:\", resultado)\n",
        "\n"
      ],
      "metadata": {
        "colab": {
          "base_uri": "https://localhost:8080/"
        },
        "id": "dPnwNW7T0ISq",
        "outputId": "aca24509-ea26-4f40-d7d1-f28ada9181af"
      },
      "execution_count": null,
      "outputs": [
        {
          "output_type": "stream",
          "name": "stdout",
          "text": [
            "Ejercicio 2: ['gato', 'gato', 'goméstico']\n"
          ]
        }
      ]
    },
    {
      "cell_type": "code",
      "source": [
        "\n",
        "\n",
        "# Ejercicio 3\n",
        "# Reemplaza todas las direcciones de correo electrónico en el texto con \"email@dominio.com\".\n",
        "texto_con_correos = \"Mi dirección de correo es user1@example.com y user2@gmail.com\"\n",
        "resultado = re.sub(r'\\b[A-Za-z0-9._%+-]+@[A-Za-z0-9.-]+\\.[A-Z|a-z]{2,}\\b', 'email@dominio.com', texto_con_correos)\n",
        "print(\"Ejercicio 50:\", resultado)"
      ],
      "metadata": {
        "colab": {
          "base_uri": "https://localhost:8080/"
        },
        "id": "2oZ-ogaj0Jsx",
        "outputId": "8a5e1ef0-f38c-4264-e2d5-d9300eea889d"
      },
      "execution_count": null,
      "outputs": [
        {
          "output_type": "stream",
          "name": "stdout",
          "text": [
            "Ejercicio 50: Mi dirección de correo es email@dominio.com y email@dominio.com\n"
          ]
        }
      ]
    },
    {
      "cell_type": "code",
      "source": [
        "# Ejercicio 4\n",
        "# Encuentra todas las palabras que terminan con \"o\" en el texto.\n",
        "texto = \"El gato está en el tejado. El perro está en el suelo.\"\n",
        "resultado = re.findall(r'\\b\\w*o\\b', texto)\n",
        "print(\"Ejercicio 4:\", resultado)"
      ],
      "metadata": {
        "colab": {
          "base_uri": "https://localhost:8080/"
        },
        "id": "p9i_DkFp0Nqp",
        "outputId": "1caf0b3b-4329-4ab0-e8ff-9000788f4811"
      },
      "execution_count": null,
      "outputs": [
        {
          "output_type": "stream",
          "name": "stdout",
          "text": [
            "Ejercicio 4: ['gato', 'tejado', 'perro', 'suelo']\n"
          ]
        }
      ]
    },
    {
      "cell_type": "code",
      "source": [
        "\n",
        "\n",
        "# Ejercicio 5\n",
        "# Encuentra todas las coincidencias de números (dígitos) en el texto.\n",
        "texto = \"La casa tiene 3 habitaciones y el precio es $200,000.\"\n",
        "resultado = re.findall(r'\\d+', texto)\n",
        "print(\"Ejercicio 5:\", resultado)\n"
      ],
      "metadata": {
        "colab": {
          "base_uri": "https://localhost:8080/"
        },
        "id": "XMsLE6oW0QYi",
        "outputId": "6ce0d97e-6a18-41c9-b66f-f5324d34328b"
      },
      "execution_count": null,
      "outputs": [
        {
          "output_type": "stream",
          "name": "stdout",
          "text": [
            "Ejercicio 5: ['3', '200', '000']\n"
          ]
        }
      ]
    },
    {
      "cell_type": "code",
      "source": [
        "# Ejercicio 6\n",
        "# Encuentra todas las líneas que comienzan con \"Hola\".\n",
        "texto = \"Hola, ¿cómo estás?\\nHola, me llamo Juan.\\nAdiós por ahora.\"\n",
        "resultado = re.findall(r'^Hola.*', texto, flags=re.MULTILINE)\n",
        "print(\"Ejercicio 6:\", resultado)"
      ],
      "metadata": {
        "colab": {
          "base_uri": "https://localhost:8080/"
        },
        "id": "WPjjnifL0R4S",
        "outputId": "a60cd992-8c76-49af-b79d-c8f4948c624d"
      },
      "execution_count": null,
      "outputs": [
        {
          "output_type": "stream",
          "name": "stdout",
          "text": [
            "Ejercicio 6: ['Hola, ¿cómo estás?', 'Hola, me llamo Juan.']\n"
          ]
        }
      ]
    },
    {
      "cell_type": "code",
      "source": [
        "\n",
        "\n",
        "# Ejercicio 7\n",
        "# Encuentra todas las palabras que tienen al menos tres vocales en el texto.\n",
        "texto = \"Python es un lenguaje de programación poderoso.\"\n",
        "resultado = re.findall(r'\\b(?:[aeiouAEIOU][^aeiouAEIOU]*){3,}\\b', texto)\n",
        "print(\"Ejercicio 7:\", resultado)"
      ],
      "metadata": {
        "colab": {
          "base_uri": "https://localhost:8080/"
        },
        "id": "nkDx4mS-0UdR",
        "outputId": "22897b04-ad8f-4f6c-ea7f-aa3c3eedc23c"
      },
      "execution_count": null,
      "outputs": [
        {
          "output_type": "stream",
          "name": "stdout",
          "text": [
            "Ejercicio 7: ['es un lenguaje de programación poderoso']\n"
          ]
        }
      ]
    },
    {
      "cell_type": "code",
      "source": [
        "\n",
        "# Ejercicio 8\n",
        "# Extrae el nombre de usuario y dominio de las direcciones de correo electrónico.\n",
        "texto = \"Mis correos son user1@example.com y user2@gmail.com\"\n",
        "resultado = re.findall(r'(\\w+)@(\\w+\\.\\w+)', texto)\n",
        "print(\"Ejercicio 8:\", resultado)"
      ],
      "metadata": {
        "colab": {
          "base_uri": "https://localhost:8080/"
        },
        "id": "9u_WzB_U0Gvc",
        "outputId": "321ff5e6-3193-4062-b9a0-67fbe618d4f6"
      },
      "execution_count": null,
      "outputs": [
        {
          "output_type": "stream",
          "name": "stdout",
          "text": [
            "Ejercicio 8: [('user1', 'example.com'), ('user2', 'gmail.com')]\n"
          ]
        }
      ]
    },
    {
      "cell_type": "code",
      "source": [
        "# Ejercicio 9\n",
        "# Encuentra todas las palabras que contienen al menos dos letras \"a\".\n",
        "texto = \"La manzana es roja y el plátano es amarillo.\"\n",
        "resultado = re.findall(r'\\b(?:[^a]*a[^a]*){2,}\\b', texto)\n",
        "print(\"Ejercicio 9:\", resultado)\n"
      ],
      "metadata": {
        "colab": {
          "base_uri": "https://localhost:8080/"
        },
        "id": "s7saS3Ei0ecK",
        "outputId": "3fd5e049-092d-47cb-9f33-400b72f8df7d"
      },
      "execution_count": null,
      "outputs": [
        {
          "output_type": "stream",
          "name": "stdout",
          "text": [
            "Ejercicio 9: ['La manzana es roja y el plátano es amarillo']\n"
          ]
        }
      ]
    },
    {
      "cell_type": "code",
      "source": [
        "\n",
        "# Ejercicio 10\n",
        "# Encuentra todas las fechas en formato dd/mm/aaaa en el texto.\n",
        "texto = \"Hoy es 05/12/2023 y mañana será 06/12/2023.\"\n",
        "resultado = re.findall(r'\\b\\d{2}/\\d{2}/\\d{4}\\b', texto)\n",
        "print(\"Ejercicio 10:\", resultado)\n",
        "\n"
      ],
      "metadata": {
        "colab": {
          "base_uri": "https://localhost:8080/"
        },
        "id": "GHDfIIfQ0f86",
        "outputId": "fbf48c35-9360-48df-d679-96906cdcfdc0"
      },
      "execution_count": null,
      "outputs": [
        {
          "output_type": "stream",
          "name": "stdout",
          "text": [
            "Ejercicio 10: ['05/12/2023', '06/12/2023']\n"
          ]
        }
      ]
    },
    {
      "cell_type": "code",
      "source": [
        "# Ejercicio 11\n",
        "# Encuentra todas las palabras que comienzan y terminan con la misma letra en el texto.\n",
        "texto = \"oso casa pera elefante nivel\"\n",
        "resultado = re.findall(r'\\b(\\w)\\w*\\1\\b', texto)\n",
        "print(\"Ejercicio 11:\", resultado)\n",
        "\n"
      ],
      "metadata": {
        "colab": {
          "base_uri": "https://localhost:8080/"
        },
        "id": "rN96NZfu0hNi",
        "outputId": "e9f0dc9c-7f52-4702-d238-744cc398cc00"
      },
      "execution_count": null,
      "outputs": [
        {
          "output_type": "stream",
          "name": "stdout",
          "text": [
            "Ejercicio 11: ['o', 'e']\n"
          ]
        }
      ]
    },
    {
      "cell_type": "code",
      "source": [
        "# Ejercicio 12\n",
        "# Encuentra todas las oraciones que terminan con un signo de exclamación en el texto.\n",
        "texto = \"¡Hola! ¿Cómo estás? ¡Esto es emocionante!\"\n",
        "resultado = re.findall(r'.*!\\b', texto)\n",
        "print(\"Ejercicio 12:\", resultado)\n",
        "\n"
      ],
      "metadata": {
        "colab": {
          "base_uri": "https://localhost:8080/"
        },
        "id": "4YgEPNDl0ie7",
        "outputId": "576753e8-7f79-49ce-8a4b-6dc71f25e553"
      },
      "execution_count": null,
      "outputs": [
        {
          "output_type": "stream",
          "name": "stdout",
          "text": [
            "Ejercicio 12: []\n"
          ]
        }
      ]
    },
    {
      "cell_type": "code",
      "source": [
        "# Ejercicio 13\n",
        "# Reemplaza todas las ocurrencias de \"Python\" con \"JavaScript\" en el texto.\n",
        "texto = \"Python es un lenguaje poderoso. Me encanta programar en Python.\"\n",
        "resultado = re.sub(r'Python', 'JavaScript', texto)\n",
        "print(\"Ejercicio 13:\", resultado)"
      ],
      "metadata": {
        "colab": {
          "base_uri": "https://localhost:8080/"
        },
        "id": "Tk1fULyr0jlq",
        "outputId": "5121d0f4-bfa2-49c4-cfce-8e8f1f3cdc92"
      },
      "execution_count": null,
      "outputs": [
        {
          "output_type": "stream",
          "name": "stdout",
          "text": [
            "Ejercicio 13: JavaScript es un lenguaje poderoso. Me encanta programar en JavaScript.\n"
          ]
        }
      ]
    },
    {
      "cell_type": "code",
      "source": [
        "# Ejercicio 14\n",
        "# Encuentra todas las palabras que tienen al menos una letra seguida por dos números.\n",
        "texto = \"abc123 x1y2z3 45a67\"\n",
        "resultado = re.findall(r'\\b\\w*[a-zA-Z]\\d{2}\\w*\\b', texto)\n",
        "print(\"Ejercicio 14:\", resultado)\n"
      ],
      "metadata": {
        "colab": {
          "base_uri": "https://localhost:8080/"
        },
        "id": "rRXcs0F_0s_D",
        "outputId": "7721518f-d11b-4a12-c71e-08457606d4e8"
      },
      "execution_count": null,
      "outputs": [
        {
          "output_type": "stream",
          "name": "stdout",
          "text": [
            "Ejercicio 14: ['abc123', '45a67']\n"
          ]
        }
      ]
    },
    {
      "cell_type": "code",
      "source": [
        "\n",
        "# Ejercicio 15\n",
        "# Encuentra todas las líneas que contienen la palabra \"información\" (sin importar mayúsculas o minúsculas).\n",
        "texto = \"La información es clave.\\nRecuerda revisar la Información importante.\"\n",
        "resultado = re.findall(r'(?i)información', texto)\n",
        "print(\"Ejercicio 15:\", resultado)\n"
      ],
      "metadata": {
        "colab": {
          "base_uri": "https://localhost:8080/"
        },
        "id": "q5mstp_S0vTc",
        "outputId": "26c7cf7c-ddf7-4307-de98-663e492f8a8c"
      },
      "execution_count": null,
      "outputs": [
        {
          "output_type": "stream",
          "name": "stdout",
          "text": [
            "Ejercicio 15: ['información', 'Información']\n"
          ]
        }
      ]
    },
    {
      "cell_type": "code",
      "source": [
        "\n",
        "# Ejercicio 16\n",
        "# Encuentra todas las palabras que empiezan con \"b\" pero no terminan con \"o\".\n",
        "texto = \"barco bolsa libro plato bote\"\n",
        "resultado = re.findall(r'\\bb[^o\\s]*\\b', texto)\n",
        "print(\"Ejercicio 16:\", resultado)\n"
      ],
      "metadata": {
        "colab": {
          "base_uri": "https://localhost:8080/"
        },
        "id": "ysatEcHq0whq",
        "outputId": "aaa8b2b4-d500-40c0-aa45-af5a6fd783a9"
      },
      "execution_count": null,
      "outputs": [
        {
          "output_type": "stream",
          "name": "stdout",
          "text": [
            "Ejercicio 16: []\n"
          ]
        }
      ]
    },
    {
      "cell_type": "code",
      "source": [
        "\n",
        "# Ejercicio 17\n",
        "# Encuentra todas las palabras que tienen al menos una consonante repetida (como \"cc\" en \"coco\").\n",
        "texto = \"coco pera manzana barco\"\n",
        "resultado = re.findall(r'\\b\\w*([bcdfghjklmnpqrstvwxyz])\\1\\w*\\b', texto)\n",
        "print(\"Ejercicio 17:\", resultado)\n"
      ],
      "metadata": {
        "colab": {
          "base_uri": "https://localhost:8080/"
        },
        "id": "3-7RpErb0xjz",
        "outputId": "e537223b-4be2-4552-bab0-f5ed85fb9d6a"
      },
      "execution_count": null,
      "outputs": [
        {
          "output_type": "stream",
          "name": "stdout",
          "text": [
            "Ejercicio 17: []\n"
          ]
        }
      ]
    },
    {
      "cell_type": "code",
      "source": [
        "\n",
        "# Ejercicio 18\n",
        "# Encuentra todas las palabras que contienen al menos una vocal y al menos un número.\n",
        "texto = \"apple23 45orange 6pear\"\n",
        "resultado = re.findall(r'\\b\\w*[aeiou]\\d+\\w*\\b', texto)\n",
        "print(\"Ejercicio 18:\", resultado)\n"
      ],
      "metadata": {
        "colab": {
          "base_uri": "https://localhost:8080/"
        },
        "id": "W5JeFF2S0yhC",
        "outputId": "4bdc6424-4b0d-49f8-ed32-cedb647e08d0"
      },
      "execution_count": null,
      "outputs": [
        {
          "output_type": "stream",
          "name": "stdout",
          "text": [
            "Ejercicio 18: ['apple23']\n"
          ]
        }
      ]
    },
    {
      "cell_type": "code",
      "source": [
        "\n",
        "# Ejercicio 19\n",
        "# Encuentra todas las líneas que comienzan con una letra mayúscula en el texto.\n",
        "texto = \"Hola Mundo.\\nPython es genial.\\nel cielo es azul.\"\n",
        "resultado = re.findall(r'^[A-Z].*', texto, flags=re.MULTILINE)\n",
        "print(\"Ejercicio 19:\", resultado)\n"
      ],
      "metadata": {
        "colab": {
          "base_uri": "https://localhost:8080/"
        },
        "id": "FOKoga8X017t",
        "outputId": "f0e568c5-8aef-4d6d-a603-df23ee61926c"
      },
      "execution_count": null,
      "outputs": [
        {
          "output_type": "stream",
          "name": "stdout",
          "text": [
            "Ejercicio 19: ['Hola Mundo.', 'Python es genial.']\n"
          ]
        }
      ]
    },
    {
      "cell_type": "code",
      "source": [],
      "metadata": {
        "id": "ufC3d_ql017L"
      },
      "execution_count": null,
      "outputs": []
    },
    {
      "cell_type": "code",
      "source": [
        "\n",
        "# Ejercicio 20\n",
        "# Encuentra todas las palabras que contienen solo letras mayúsculas.\n",
        "texto = \"Python ES un Lenguaje de Programación.\"\n",
        "resultado = re.findall(r'\\b[A-Z]+\\b', texto)\n",
        "print(\"Ejercicio 20:\", resultado)"
      ],
      "metadata": {
        "colab": {
          "base_uri": "https://localhost:8080/"
        },
        "id": "D57oBouS0z0J",
        "outputId": "9e47c225-a8fa-4975-f1b4-412734eaca1e"
      },
      "execution_count": null,
      "outputs": [
        {
          "output_type": "stream",
          "name": "stdout",
          "text": [
            "Ejercicio 20: ['ES']\n"
          ]
        }
      ]
    },
    {
      "cell_type": "markdown",
      "source": [
        "#Desafío 1:\n",
        "Objetivo: Encuentra todas las direcciones de correo electrónico en el siguiente texto."
      ],
      "metadata": {
        "id": "5Y0658o11zia"
      }
    },
    {
      "cell_type": "markdown",
      "source": [
        "Contacta con nosotros en support@example.com o info@company.org para obtener ayuda.\n",
        "Recuerda enviar tus comentarios a feedback@company.org. ¡Gracias!\n"
      ],
      "metadata": {
        "id": "pWIigU-d12Yj"
      }
    },
    {
      "cell_type": "markdown",
      "source": [
        "Resultado esperado:\n",
        "\n",
        "['support@example.com', 'info@company.org', 'feedback@company.org']"
      ],
      "metadata": {
        "id": "_8HWqvri186i"
      }
    },
    {
      "cell_type": "code",
      "source": [
        "import re\n",
        "\n",
        "texto = \"Contacta con nosotros en support@example.com o info@company.org para obtener ayuda. Recuerda enviar tus comentarios a feedback@company.org. ¡Gracias!\"\n",
        "\n",
        "patron_correo = r'[A-Za-z0-9._%+-]+@[A-Za-z0-9.-]+\\.[A-Za-z]{2,}'\n",
        "direcciones_correo = re.findall(patron_correo, texto)\n",
        "\n",
        "print(direcciones_correo)\n"
      ],
      "metadata": {
        "id": "LM0h3hOB2LnD",
        "colab": {
          "base_uri": "https://localhost:8080/"
        },
        "outputId": "563e1a7d-6935-44f0-8f4d-c44b488bd25a"
      },
      "execution_count": 1,
      "outputs": [
        {
          "output_type": "stream",
          "name": "stdout",
          "text": [
            "['support@example.com', 'info@company.org', 'feedback@company.org']\n"
          ]
        }
      ]
    },
    {
      "cell_type": "markdown",
      "source": [
        "#Desafío 2:\n",
        "\n",
        "Objetivo: Encuentra todas las palabras que comienzan con \"a\" y terminan con \"o\" en el siguiente texto."
      ],
      "metadata": {
        "id": "oJF6exkL2AZ0"
      }
    },
    {
      "cell_type": "markdown",
      "source": [
        "El árbol es alto y tiene un fruto. El auto rojo está aparcado cerca.\n",
        "Algunos animales, como el león y el mono, viven en el zoológico."
      ],
      "metadata": {
        "id": "C9guaSxr2Gkr"
      }
    },
    {
      "cell_type": "code",
      "source": [
        "import re\n",
        "\n",
        "texto = \"El árbol es alto y tiene un fruto. El auto rojo está aparcado cerca. Algunos animales, como el león y el mono, viven en el zoológico.\"\n",
        "\n",
        "patron_palabras = r'\\b[aAá]r\\w*o[l]\\b|\\b[aAá]u\\w*o\\b'\n",
        "palabras_encontradas = re.findall(patron_palabras, texto)\n",
        "\n",
        "print(palabras_encontradas)\n",
        "\n",
        "\n"
      ],
      "metadata": {
        "id": "V8TkyycP2MNC",
        "colab": {
          "base_uri": "https://localhost:8080/"
        },
        "outputId": "389b4b17-b576-432b-bfc2-3ec79687f62f"
      },
      "execution_count": 11,
      "outputs": [
        {
          "output_type": "stream",
          "name": "stdout",
          "text": [
            "['árbol', 'auto']\n"
          ]
        }
      ]
    },
    {
      "cell_type": "markdown",
      "source": [
        "Resultado Esperado:\n",
        "\n",
        "['árbol', 'auto']"
      ],
      "metadata": {
        "id": "bGh87tH72LDD"
      }
    }
  ]
}